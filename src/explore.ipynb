{
    "cells": [
        {
            "cell_type": "markdown",
            "metadata": {},
            "source": [
                "# Explore here"
            ]
        },
        {
            "cell_type": "code",
            "execution_count": 1,
            "metadata": {},
            "outputs": [],
            "source": [
                "import os\n",
                "import pandas as pd\n",
                "import seaborn as sns\n",
                "from dotenv import load_dotenv\n",
                "\n",
                "\n",
                "# load the .env file variables\n",
                "load_dotenv()\n",
                "\n",
                "client_id = os.environ.get(\"CLIENT_ID\")\n",
                "client_secret = os.environ.get(\"CLIENT_SECRET\")\n"
            ]
        },
        {
            "cell_type": "code",
            "execution_count": 2,
            "metadata": {},
            "outputs": [],
            "source": [
                "import spotipy\n",
                "from spotipy.oauth2 import SpotifyClientCredentials\n",
                "\n",
                "artist = '2YZyLoL8N0Wb9xBt1NhZWg'\n",
                "\n",
                "spotify = spotipy.Spotify(client_credentials_manager=SpotifyClientCredentials(client_id=client_id, client_secret=client_secret)) \n",
                "results = spotify.artist_top_tracks(artist)"
            ]
        },
        {
            "cell_type": "code",
            "execution_count": 7,
            "metadata": {},
            "outputs": [
                {
                    "name": "stdout",
                    "output_type": "stream",
                    "text": [
                        "luther (with sza) - 89\n",
                        "tv off (feat. lefty gunplay) - 91\n",
                        "Not Like Us - 90\n",
                        "squabble up - 88\n",
                        "All The Stars (with SZA) - 88\n",
                        "30 For 30 (with Kendrick Lamar) - 86\n",
                        "Money Trees - 78\n",
                        "HUMBLE. - 84\n",
                        "Like That - 84\n",
                        "peekaboo (feat. azchike) - 83\n"
                    ]
                }
            ],
            "source": [
                "canciones = []\n",
                "popularidad = []\n",
                "duracion = []\n",
                "\n",
                "for tracks in results['tracks'][:10]:\n",
                "    print(tracks['name'], '-', tracks['popularity'])\n",
                "    canciones.append(tracks['name'])\n",
                "    popularidad.append(tracks['popularity'])\n",
                "    duracion.append(tracks['duration_ms']/(1000*60)%60)"
            ]
        },
        {
            "cell_type": "code",
            "execution_count": 9,
            "metadata": {},
            "outputs": [
                {
                    "data": {
                        "text/html": [
                            "<div>\n",
                            "<style scoped>\n",
                            "    .dataframe tbody tr th:only-of-type {\n",
                            "        vertical-align: middle;\n",
                            "    }\n",
                            "\n",
                            "    .dataframe tbody tr th {\n",
                            "        vertical-align: top;\n",
                            "    }\n",
                            "\n",
                            "    .dataframe thead th {\n",
                            "        text-align: right;\n",
                            "    }\n",
                            "</style>\n",
                            "<table border=\"1\" class=\"dataframe\">\n",
                            "  <thead>\n",
                            "    <tr style=\"text-align: right;\">\n",
                            "      <th></th>\n",
                            "      <th>cancion</th>\n",
                            "      <th>popularidad</th>\n",
                            "      <th>duracion</th>\n",
                            "    </tr>\n",
                            "  </thead>\n",
                            "  <tbody>\n",
                            "    <tr>\n",
                            "      <th>0</th>\n",
                            "      <td>luther (with sza)</td>\n",
                            "      <td>89</td>\n",
                            "      <td>2.959967</td>\n",
                            "    </tr>\n",
                            "    <tr>\n",
                            "      <th>1</th>\n",
                            "      <td>tv off (feat. lefty gunplay)</td>\n",
                            "      <td>91</td>\n",
                            "      <td>3.678167</td>\n",
                            "    </tr>\n",
                            "    <tr>\n",
                            "      <th>2</th>\n",
                            "      <td>Not Like Us</td>\n",
                            "      <td>90</td>\n",
                            "      <td>4.569867</td>\n",
                            "    </tr>\n",
                            "    <tr>\n",
                            "      <th>3</th>\n",
                            "      <td>squabble up</td>\n",
                            "      <td>88</td>\n",
                            "      <td>2.633200</td>\n",
                            "    </tr>\n",
                            "    <tr>\n",
                            "      <th>4</th>\n",
                            "      <td>All The Stars (with SZA)</td>\n",
                            "      <td>88</td>\n",
                            "      <td>3.869767</td>\n",
                            "    </tr>\n",
                            "    <tr>\n",
                            "      <th>5</th>\n",
                            "      <td>30 For 30 (with Kendrick Lamar)</td>\n",
                            "      <td>86</td>\n",
                            "      <td>4.637933</td>\n",
                            "    </tr>\n",
                            "    <tr>\n",
                            "      <th>6</th>\n",
                            "      <td>Money Trees</td>\n",
                            "      <td>78</td>\n",
                            "      <td>6.448433</td>\n",
                            "    </tr>\n",
                            "    <tr>\n",
                            "      <th>7</th>\n",
                            "      <td>HUMBLE.</td>\n",
                            "      <td>84</td>\n",
                            "      <td>2.950000</td>\n",
                            "    </tr>\n",
                            "    <tr>\n",
                            "      <th>8</th>\n",
                            "      <td>Like That</td>\n",
                            "      <td>84</td>\n",
                            "      <td>4.461767</td>\n",
                            "    </tr>\n",
                            "    <tr>\n",
                            "      <th>9</th>\n",
                            "      <td>peekaboo (feat. azchike)</td>\n",
                            "      <td>83</td>\n",
                            "      <td>2.598617</td>\n",
                            "    </tr>\n",
                            "  </tbody>\n",
                            "</table>\n",
                            "</div>"
                        ],
                        "text/plain": [
                            "                           cancion  popularidad  duracion\n",
                            "0                luther (with sza)           89  2.959967\n",
                            "1     tv off (feat. lefty gunplay)           91  3.678167\n",
                            "2                      Not Like Us           90  4.569867\n",
                            "3                      squabble up           88  2.633200\n",
                            "4         All The Stars (with SZA)           88  3.869767\n",
                            "5  30 For 30 (with Kendrick Lamar)           86  4.637933\n",
                            "6                      Money Trees           78  6.448433\n",
                            "7                          HUMBLE.           84  2.950000\n",
                            "8                        Like That           84  4.461767\n",
                            "9         peekaboo (feat. azchike)           83  2.598617"
                        ]
                    },
                    "execution_count": 9,
                    "metadata": {},
                    "output_type": "execute_result"
                }
            ],
            "source": [
                "df=pd.DataFrame({'cancion':canciones, 'popularidad':popularidad, 'duracion':duracion})\n",
                "df\n"
            ]
        },
        {
            "cell_type": "code",
            "execution_count": 11,
            "metadata": {},
            "outputs": [
                {
                    "data": {
                        "text/html": [
                            "<div>\n",
                            "<style scoped>\n",
                            "    .dataframe tbody tr th:only-of-type {\n",
                            "        vertical-align: middle;\n",
                            "    }\n",
                            "\n",
                            "    .dataframe tbody tr th {\n",
                            "        vertical-align: top;\n",
                            "    }\n",
                            "\n",
                            "    .dataframe thead th {\n",
                            "        text-align: right;\n",
                            "    }\n",
                            "</style>\n",
                            "<table border=\"1\" class=\"dataframe\">\n",
                            "  <thead>\n",
                            "    <tr style=\"text-align: right;\">\n",
                            "      <th></th>\n",
                            "      <th>cancion</th>\n",
                            "      <th>popularidad</th>\n",
                            "      <th>duracion</th>\n",
                            "    </tr>\n",
                            "  </thead>\n",
                            "  <tbody>\n",
                            "    <tr>\n",
                            "      <th>1</th>\n",
                            "      <td>tv off (feat. lefty gunplay)</td>\n",
                            "      <td>91</td>\n",
                            "      <td>3.678167</td>\n",
                            "    </tr>\n",
                            "    <tr>\n",
                            "      <th>2</th>\n",
                            "      <td>Not Like Us</td>\n",
                            "      <td>90</td>\n",
                            "      <td>4.569867</td>\n",
                            "    </tr>\n",
                            "    <tr>\n",
                            "      <th>0</th>\n",
                            "      <td>luther (with sza)</td>\n",
                            "      <td>89</td>\n",
                            "      <td>2.959967</td>\n",
                            "    </tr>\n",
                            "    <tr>\n",
                            "      <th>3</th>\n",
                            "      <td>squabble up</td>\n",
                            "      <td>88</td>\n",
                            "      <td>2.633200</td>\n",
                            "    </tr>\n",
                            "    <tr>\n",
                            "      <th>4</th>\n",
                            "      <td>All The Stars (with SZA)</td>\n",
                            "      <td>88</td>\n",
                            "      <td>3.869767</td>\n",
                            "    </tr>\n",
                            "    <tr>\n",
                            "      <th>5</th>\n",
                            "      <td>30 For 30 (with Kendrick Lamar)</td>\n",
                            "      <td>86</td>\n",
                            "      <td>4.637933</td>\n",
                            "    </tr>\n",
                            "    <tr>\n",
                            "      <th>7</th>\n",
                            "      <td>HUMBLE.</td>\n",
                            "      <td>84</td>\n",
                            "      <td>2.950000</td>\n",
                            "    </tr>\n",
                            "    <tr>\n",
                            "      <th>8</th>\n",
                            "      <td>Like That</td>\n",
                            "      <td>84</td>\n",
                            "      <td>4.461767</td>\n",
                            "    </tr>\n",
                            "    <tr>\n",
                            "      <th>9</th>\n",
                            "      <td>peekaboo (feat. azchike)</td>\n",
                            "      <td>83</td>\n",
                            "      <td>2.598617</td>\n",
                            "    </tr>\n",
                            "    <tr>\n",
                            "      <th>6</th>\n",
                            "      <td>Money Trees</td>\n",
                            "      <td>78</td>\n",
                            "      <td>6.448433</td>\n",
                            "    </tr>\n",
                            "  </tbody>\n",
                            "</table>\n",
                            "</div>"
                        ],
                        "text/plain": [
                            "                           cancion  popularidad  duracion\n",
                            "1     tv off (feat. lefty gunplay)           91  3.678167\n",
                            "2                      Not Like Us           90  4.569867\n",
                            "0                luther (with sza)           89  2.959967\n",
                            "3                      squabble up           88  2.633200\n",
                            "4         All The Stars (with SZA)           88  3.869767\n",
                            "5  30 For 30 (with Kendrick Lamar)           86  4.637933\n",
                            "7                          HUMBLE.           84  2.950000\n",
                            "8                        Like That           84  4.461767\n",
                            "9         peekaboo (feat. azchike)           83  2.598617\n",
                            "6                      Money Trees           78  6.448433"
                        ]
                    },
                    "execution_count": 11,
                    "metadata": {},
                    "output_type": "execute_result"
                }
            ],
            "source": [
                "df_popular = df.sort_values(by='popularidad', ascending=False)\n",
                "df_popular"
            ]
        },
        {
            "cell_type": "code",
            "execution_count": 18,
            "metadata": {},
            "outputs": [
                {
                    "data": {
                        "text/html": [
                            "<div>\n",
                            "<style scoped>\n",
                            "    .dataframe tbody tr th:only-of-type {\n",
                            "        vertical-align: middle;\n",
                            "    }\n",
                            "\n",
                            "    .dataframe tbody tr th {\n",
                            "        vertical-align: top;\n",
                            "    }\n",
                            "\n",
                            "    .dataframe thead th {\n",
                            "        text-align: right;\n",
                            "    }\n",
                            "</style>\n",
                            "<table border=\"1\" class=\"dataframe\">\n",
                            "  <thead>\n",
                            "    <tr style=\"text-align: right;\">\n",
                            "      <th></th>\n",
                            "      <th>cancion</th>\n",
                            "      <th>popularidad</th>\n",
                            "      <th>duracion</th>\n",
                            "    </tr>\n",
                            "  </thead>\n",
                            "  <tbody>\n",
                            "    <tr>\n",
                            "      <th>1</th>\n",
                            "      <td>tv off (feat. lefty gunplay)</td>\n",
                            "      <td>91</td>\n",
                            "      <td>3.678167</td>\n",
                            "    </tr>\n",
                            "    <tr>\n",
                            "      <th>2</th>\n",
                            "      <td>Not Like Us</td>\n",
                            "      <td>90</td>\n",
                            "      <td>4.569867</td>\n",
                            "    </tr>\n",
                            "    <tr>\n",
                            "      <th>0</th>\n",
                            "      <td>luther (with sza)</td>\n",
                            "      <td>89</td>\n",
                            "      <td>2.959967</td>\n",
                            "    </tr>\n",
                            "  </tbody>\n",
                            "</table>\n",
                            "</div>"
                        ],
                        "text/plain": [
                            "                        cancion  popularidad  duracion\n",
                            "1  tv off (feat. lefty gunplay)           91  3.678167\n",
                            "2                   Not Like Us           90  4.569867\n",
                            "0             luther (with sza)           89  2.959967"
                        ]
                    },
                    "execution_count": 18,
                    "metadata": {},
                    "output_type": "execute_result"
                }
            ],
            "source": [
                "df_popular.head(3)"
            ]
        },
        {
            "cell_type": "code",
            "execution_count": 35,
            "metadata": {},
            "outputs": [
                {
                    "data": {
                        "image/png": "[encoded data removed]",
                        "text/plain": [
                            "<Figure size 640x480 with 1 Axes>"
                        ]
                    },
                    "metadata": {},
                    "output_type": "display_data"
                }
            ],
            "source": [
                "import matplotlib.pyplot as plt\n",
                "\n",
                "plt.scatter(df['popularidad'], df['duracion']);\n",
                "plt.xlabel('popularidad ');\n",
                "plt.ylabel('duracion (min)');\n",
                "plt.title('Relación entre Popularidad y duracion de las canciones');\n",
                "\n",
                "plt.show();"
            ]
        },
        {
            "cell_type": "markdown",
            "metadata": {},
            "source": [
                "el scatterplot nos indica que la cancion menos popular es la mas larga en min , esto me indica que si hay una relacion de baja popularidad a la cancion mas larga , pero la cancion mas popular tiene una duracion intermedia lo cual creo que al no ser la mas corta pero tampoco la mas larga le da un tiempo optimo para gustar al publico"
            ]
        }
    ],
    "metadata": {
        "kernelspec": {
            "display_name": "Python 3",
            "language": "python",
            "name": "python3"
        },
        "language_info": {
            "codemirror_mode": {
                "name": "ipython",
                "version": 3
            },
            "file_extension": ".py",
            "mimetype": "text/x-python",
            "name": "python",
            "nbconvert_exporter": "python",
            "pygments_lexer": "ipython3",
            "version": "3.11.4"
        },
        "orig_nbformat": 4
    },
    "nbformat": 4,
    "nbformat_minor": 2
}
